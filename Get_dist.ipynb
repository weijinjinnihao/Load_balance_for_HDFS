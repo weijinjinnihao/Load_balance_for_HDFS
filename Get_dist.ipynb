{
 "cells": [
  {
   "cell_type": "code",
   "execution_count": 3,
   "metadata": {},
   "outputs": [],
   "source": [
    "from __future__ import unicode_literals\n",
    "import math\n",
    "import numpy as np"
   ]
  },
  {
   "cell_type": "code",
   "execution_count": 4,
   "metadata": {},
   "outputs": [
    {
     "name": "stdout",
     "output_type": "stream",
     "text": [
      "[0.965, 0.43, 0.098, 0.529, 0.939] [0.833, 0.298, 0.231]\n"
     ]
    }
   ],
   "source": [
    "from zlib import crc32\n",
    "\n",
    "def bytes_to_float(b):\n",
    "    return float(crc32(b) & 0xffffffff) / 2**32\n",
    "def h(s, encoding=\"utf-8\"):\n",
    "    return round(bytes_to_float(s.encode(encoding)),3)\n",
    "dirr=['dirr1','dirr2','dirr3','dirr4','dirr5']\n",
    "addr=['addr1','addr2','addr3']\n",
    "h_dirr=[]\n",
    "h_addr=[]\n",
    "for d in dirr:\n",
    "    h_dirr.append(h(d))\n",
    "for a in addr:\n",
    "    h_addr.append(h(a))\n",
    "print(h_dirr,h_addr)"
   ]
  },
  {
   "cell_type": "code",
   "execution_count": 5,
   "metadata": {},
   "outputs": [
    {
     "name": "stdout",
     "output_type": "stream",
     "text": [
      "0.189\n"
     ]
    }
   ],
   "source": [
    "def c(r,x):\n",
    "    return np.dot(r,x)\n",
    "    \n",
    "# x=[\"cpu\",\"mem\",\"io\",\"disk\"]\n",
    "x_fir=[0.2,0.1,0.3,0.2]\n",
    "\n",
    "r=[0.116,0.368,0.258,0.258]\n",
    "print(c(r,x_fir))"
   ]
  },
  {
   "cell_type": "code",
   "execution_count": 6,
   "metadata": {},
   "outputs": [
    {
     "name": "stdout",
     "output_type": "stream",
     "text": [
      "3\n",
      "[[0.1632, 0.18760000000000002], [0.12580000000000002, 0.13780000000000003], [0.1884, 0.21292000000000003]]\n"
     ]
    }
   ],
   "source": [
    "# for each service at t time\n",
    "def res_util(r,x,p1,t):\n",
    "    # not rewrite\n",
    "    util=[]\n",
    "    # rewite\n",
    "    util_re=[]\n",
    "    u=[]\n",
    "    # t=0    \n",
    "    for t in range(t+1):\n",
    "        if (t==0):\n",
    "            util.append(np.dot(r,x[0]))\n",
    "            util_re.append(np.dot(r,x[0]))\n",
    "        else:            \n",
    "            util.append(np.dot(r,x[t]))\n",
    "            util_re.append(p1*util[t]+(1-p1)*util_re[t-1])\n",
    "        \n",
    "    return util_re\n",
    "\n",
    "# x.append([0.3,0.2,0.2,0.4])\n",
    "# x.append([0.4,0.3,0.4,0.5])\n",
    "x1=[[0.2,0.1,0.3,0.1],[0.3,0.4,0.2,0.2]]\n",
    "\n",
    "x2=[[0.1]]\n",
    "x3=[[0.2]]\n",
    "x=[[[0.2,0.1,0.3,0.1],[0.3,0.4,0.2,0.2]],[[0.1,0.1,0.2,0.1],[0.3,0.2,0.2,0.1]],[[0.1,0.2,0.3,0.1],[0.3,0.4,0.3,0.2]]]\n",
    "# u1=res_util(r,x[0],0.2,1)\n",
    "# print(u1)\n",
    "u=[]\n",
    "print(len(x))\n",
    "for i in range(len(x)):\n",
    "        tmp=res_util(r,x[i],0.2,1)\n",
    "        \n",
    "        u.append(tmp)\n",
    "#         u.append(res_util(r,x[i],0.2,0))\n",
    "print(u)"
   ]
  },
  {
   "cell_type": "code",
   "execution_count": 7,
   "metadata": {},
   "outputs": [
    {
     "name": "stdout",
     "output_type": "stream",
     "text": [
      "[0.30000000000000004]\n"
     ]
    }
   ],
   "source": [
    "# for each service at t time\n",
    "def stay_time(Q,t1,t2):\n",
    "    stay_sum=[]\n",
    "    stay_av=[]\n",
    "    \n",
    "    stay=0\n",
    "    for i in range(len(t1)):\n",
    "        stay=stay+t1[i]+t2[i]\n",
    "    stay_sum.append(stay)\n",
    "    stay_av.append(stay/(len(t1)))\n",
    "    return stay_av\n",
    "\n",
    "Q=['dirr1','dirr2','dirr3']\n",
    "t1=[0.1,0.2,0.15]\n",
    "t2=[0.1,0.2,0.15]\n",
    "print(stay_time(Q,t1,t2))"
   ]
  },
  {
   "cell_type": "code",
   "execution_count": 16,
   "metadata": {},
   "outputs": [
    {
     "name": "stdout",
     "output_type": "stream",
     "text": [
      "[[array([0.4632]), array([0.4876])], [array([0.4258]), array([0.4378])], [array([0.4884]), array([0.51292])]]\n",
      "[array([1.3774]), array([1.43832])] [array([0.45913333]), array([0.47944])]\n"
     ]
    }
   ],
   "source": [
    "def load(r,x,p1,t,Q,t1,t2):\n",
    "    load1=[]\n",
    "    \n",
    "    for i in range(len(x)): \n",
    "        tmp=[]\n",
    "        for j in range(t+1):            \n",
    "            tmp.append(u[i][j]+stay_time(Q,t1,t2))\n",
    "       \n",
    "        load1.append(tmp)\n",
    "    return load1\n",
    "\n",
    "def load_ave(l,t):\n",
    "    load_sum=[]\n",
    "    load_av=[]\n",
    "    \n",
    "    for j in range(t+1):\n",
    "        tmp=0\n",
    "        for i in range(len(l)):\n",
    "            tmp=tmp+l[i][j]\n",
    "        load_sum.append(tmp)\n",
    "        load_av.append(tmp/len(h_addr))\n",
    "    return load_sum,load_av\n",
    "l=[]\n",
    "l=load(r,x,0.2,1,Q,t1,t2)\n",
    "load_sum,load_av=load_ave(l,1)\n",
    "print(l)\n",
    "print(load_sum,load_av)"
   ]
  },
  {
   "cell_type": "code",
   "execution_count": 33,
   "metadata": {},
   "outputs": [
    {
     "name": "stdout",
     "output_type": "stream",
     "text": [
      "[[0.2, 0.4, 0.4], [array([0.2589959]), array([0.53141343]), array([0.5121672])]]\n",
      "[0.2589959]\n"
     ]
    }
   ],
   "source": [
    "def c_re(p2,t):\n",
    "    #t=0,c1:c2:c3=1:2:2,c=[0.2,0.4,0.4]\n",
    "    c=[[0.2,0.4,0.4]]  \n",
    "    load_sum,load_av=load_ave(l,t)   \n",
    "    for i in range(t+1):\n",
    "        tmp = []\n",
    "        for j in range(len(h_addr)):        \n",
    "            if(i!=0):                \n",
    "                tmp.append((1-p2)*c[i-1][j]+p2*(load_av[i]*c[i-1][j]/l[j][i]+c[0][j]))\n",
    "        if(len(tmp)!=0):\n",
    "                c.append(tmp)\n",
    "    return c\n",
    "c=c_re(0.3,1)\n",
    "print(c)\n",
    "print(c[1][0])"
   ]
  },
  {
   "cell_type": "code",
   "execution_count": 35,
   "metadata": {},
   "outputs": [
    {
     "name": "stdout",
     "output_type": "stream",
     "text": [
      "0.4\n",
      "5\n",
      "[[0.5465861245811369, 2.0692228033573694, 2.585598943723082], [1.9916846908412726, 0.2663906407319332, 0.43324588552914534], [5.127592606019398, 0.4199057426575611, 0.27865178075301716], [1.3992716527878455, 0.4942748795149199, 0.6908327500433905], [0.4326304182959093, 1.9277512218129815, 2.4035148634342587]]\n"
     ]
    }
   ],
   "source": [
    "c=c_re(0.3,1)\n",
    "print(c[0][1])\n",
    "print(len(h_dirr))\n",
    "# when t!=0\n",
    "def dist(h_dirr,h_addr,r,x,t):\n",
    "    d=[]\n",
    "    for i in range(len(h_dirr)):\n",
    "        tmp=[]\n",
    "        for j in range(len(h_addr)):\n",
    "            tmp.append((-1)*(math.log(1-abs(h_dirr[i]-h_addr[j])))/c[t][j][0])\n",
    "        d.append(tmp) \n",
    "    return d\n",
    "dist_1=dist(h_dirr,h_addr,r,x,1)\n",
    "print(dist_1)"
   ]
  },
  {
   "cell_type": "code",
   "execution_count": 28,
   "metadata": {},
   "outputs": [
    {
     "name": "stdout",
     "output_type": "stream",
     "text": [
      "[0, 1, 2, 1, 0]\n",
      "[0.5465861245811369, 0.2663906407319332, 0.27865178075301716, 0.4942748795149199, 0.4326304182959093]\n"
     ]
    }
   ],
   "source": [
    "def BBLA(dist):\n",
    "    s=[]\n",
    "    d_min=[]\n",
    "    for d in dist:\n",
    "        d_min.append(min(d))\n",
    "        s.append(d.index(min(d)))\n",
    "    return s,d_min\n",
    "s,d=BBLA(dist)\n",
    "print(s)\n",
    "print(d)"
   ]
  },
  {
   "cell_type": "code",
   "execution_count": 1,
   "metadata": {},
   "outputs": [],
   "source": [
    "# def BBLA(h_dirr,h_addr,x,t):\n",
    "#     s_fin=[]\n",
    "#     nearest=dist(h_dirr[0],h_addr[0],r,x,t)\n",
    "#     for j in range(len(h_dirr)):\n",
    "#         for i in range(len(h_addr)):\n",
    "#             if (dist(h_dirr[i],h_addr[i],r,x,t)<nearest):\n",
    "#                 nearest=dist(h_dirr[i],h_addr[i],r,x,t)\n",
    "#                 s=S[i]\n",
    "#         s_fin.append(s)\n",
    "#     return s,nearest\n",
    "# # t=0\n"
   ]
  },
  {
   "cell_type": "code",
   "execution_count": 34,
   "metadata": {},
   "outputs": [
    {
     "name": "stdout",
     "output_type": "stream",
     "text": [
      "[0.27257151]\n"
     ]
    }
   ],
   "source": [
    "# n:the number of services\n",
    "# c[[c1,c2,...ct],[c1,c2,...,ct],,,[c1,c2,...ct]]:compute of each service at different time\n",
    "def reward(t,time_p):\n",
    "    a=0\n",
    "    b=0\n",
    "    r=0\n",
    "    for k in range(t+1):#at different time\n",
    "        a=a+time_p**k\n",
    "        for i in range(len(h_addr)):#in different services\n",
    "            b=b+abs(c[k][i]-(l[i][k]/load_sum[k]))\n",
    "        r=r+a*b\n",
    "        return r\n",
    "r=reward(1,0.4)\n",
    "print(r)"
   ]
  },
  {
   "cell_type": "code",
   "execution_count": null,
   "metadata": {},
   "outputs": [],
   "source": [
    "def f(t,p1,p2):\n",
    "    for m in range(t):\n",
    "        s,nearest=BBLA(dist)\n",
    "        f=f+np.log(nearest)\n",
    "    f=f*reward\n",
    "    return f"
   ]
  },
  {
   "cell_type": "code",
   "execution_count": null,
   "metadata": {},
   "outputs": [],
   "source": [
    "def gradient_descent(p1,p2,rate):\n",
    "    delta=0.00000001\n",
    "    derivate_p1=(f(p1+delta,p2)-f(p1,p2))/delta\n",
    "    derivate_p2=(f(p1,p2+delta)-f(p1,p2))/delta\n",
    "#     rate=0.02\n",
    "    p1=p1-rate*derivate_p1\n",
    "    p2=p2-rate*derivate_p2\n",
    "    return(p1,p2)"
   ]
  },
  {
   "cell_type": "code",
   "execution_count": null,
   "metadata": {},
   "outputs": [],
   "source": [
    "p1=1.0\n",
    "p2=1.0\n",
    "for i in range(1000):\n",
    "    p1,p2=gradient_descent(p1,p2)\n",
    "    print('p = {:6f},{:6f}, f(x) = {:6f}'.format(p1,p2,f(x)))"
   ]
  }
 ],
 "metadata": {
  "kernelspec": {
   "display_name": "Python 3",
   "language": "python",
   "name": "python3"
  },
  "language_info": {
   "codemirror_mode": {
    "name": "ipython",
    "version": 3
   },
   "file_extension": ".py",
   "mimetype": "text/x-python",
   "name": "python",
   "nbconvert_exporter": "python",
   "pygments_lexer": "ipython3",
   "version": "3.6.7"
  }
 },
 "nbformat": 4,
 "nbformat_minor": 2
}
